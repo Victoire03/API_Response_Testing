{
 "cells": [
  {
   "cell_type": "code",
   "execution_count": null,
   "id": "26bff2cd",
   "metadata": {},
   "outputs": [
    {
     "name": "stdout",
     "output_type": "stream",
     "text": [
      "Failed to retrieve data: {'code': 101, 'type': 'invalid_access_key', 'info': 'You have not supplied a valid API Access Key. [Technical Support: support@apilayer.com]'}\n"
     ]
    }
   ],
   "source": [
    "import requests\n",
    "\n",
    "api_key = \"7094ae300cc8646d06808ffe6f16b472\"\n",
    "url = f\"http://data.fixer.io/api/latest?access_key={api_key}\"\n",
    "\n",
    "response = requests.get(url)\n",
    "data = response.json()\n",
    "\n",
    "# Check if the response was successful\n",
    "if data.get(\"success\"):\n",
    "    rates = data[\"rates\"]\n",
    "\n",
    "    # Sort currencies by exchange rate (highest first) and get top 5\n",
    "    top_5 = sorted(rates.items(), key=lambda x: x[1], reverse=True)[:5]\n",
    "\n",
    "    print(\"Top 5 currencies by exchange rate (relative to USD):\")\n",
    "    for currency, rate in top_5:\n",
    "        print(f\"{currency}: {rate}\")\n",
    "else:\n",
    "    print(\"Failed to retrieve data:\", data.get(\"error\"))"
   ]
  }
 ],
 "metadata": {
  "kernelspec": {
   "display_name": "Python 3",
   "language": "python",
   "name": "python3"
  },
  "language_info": {
   "codemirror_mode": {
    "name": "ipython",
    "version": 3
   },
   "file_extension": ".py",
   "mimetype": "text/x-python",
   "name": "python",
   "nbconvert_exporter": "python",
   "pygments_lexer": "ipython3",
   "version": "3.13.2"
  }
 },
 "nbformat": 4,
 "nbformat_minor": 5
}
